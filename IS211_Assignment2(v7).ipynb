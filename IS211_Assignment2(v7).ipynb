{
 "cells": [
  {
   "cell_type": "code",
   "execution_count": 716,
   "metadata": {},
   "outputs": [],
   "source": [
    "def downloadData(url):\n",
    "    url = urllib.request.Request('https://s3.amazonaws.com/cuny-is211-spring2015/birthdays100.csv')\n",
    "    with urllib.request.urlopen(url) as response:\n",
    "       data = response.read().decode('ascii')\n",
    "def processData(data):\n",
    "    decodedData = data.decode('ascii') #downloaded data is decoded into a more useable format\n",
    "    dData = decodedData.split(',')      #splits up data by commas\n",
    "    del dData[0:1]\n",
    "    fList = dData\n",
    "    nList=[]                            #make list of names from data\n",
    "    for i in range(0, len(fList), 2):\n",
    "        nList.append(fList[i])\n",
    "    bList=[]                            #make list of birthdays from data\n",
    "    for i in range(1, len(fList), 2):\n",
    "        bList.append(fList[i])\n",
    "    my_dict = {}                        #make key:val of [names,birthdays]\n",
    "    for key in nList: \n",
    "        for value in bList2: \n",
    "            my_dict[key] = value \n",
    "            bList2.remove(value) \n",
    "            break\n",
    "    nameDay = list(my_dict.items())     #creates tuple vals\n",
    "    newKey = []                         #create new keys for final dictionary\n",
    "    for i in range(0, len(nameDay)):\n",
    "        newKey = (i)\n",
    "    finalDict = {}                      #make final dictionary {key: (name, bday)}\n",
    "    for key in range(0, len(nameDay)):\n",
    "        for value in nameDay:\n",
    "            finalDict[key] = value\n",
    "            nameDay.remove(value)\n",
    "            break\n",
    "    return finalDict\n",
    "\n",
    "def displayPerson(id, personData):      #display person's name and birthday from their id\n",
    "    personData = finalDict\n",
    "    print(personData.get(id))"
   ]
  },
  {
   "cell_type": "code",
   "execution_count": 715,
   "metadata": {},
   "outputs": [
    {
     "name": "stdout",
     "output_type": "stream",
     "text": [
      "('Sebastian Hudson', '15/08/1991')\n"
     ]
    }
   ],
   "source": [
    "displayPerson(4, personData)"
   ]
  },
  {
   "cell_type": "code",
   "execution_count": 705,
   "metadata": {},
   "outputs": [
    {
     "data": {
      "text/plain": [
       "datetime.datetime(1963, 1, 6, 0, 0)"
      ]
     },
     "execution_count": 705,
     "metadata": {},
     "output_type": "execute_result"
    }
   ],
   "source": [
    "datetime.datetime.strptime('06/01/1963', \"%d/%m/%Y\")"
   ]
  }
 ],
 "metadata": {
  "kernelspec": {
   "display_name": "Python 3",
   "language": "python",
   "name": "python3"
  },
  "language_info": {
   "codemirror_mode": {
    "name": "ipython",
    "version": 3
   },
   "file_extension": ".py",
   "mimetype": "text/x-python",
   "name": "python",
   "nbconvert_exporter": "python",
   "pygments_lexer": "ipython3",
   "version": "3.8.3"
  }
 },
 "nbformat": 4,
 "nbformat_minor": 4
}
