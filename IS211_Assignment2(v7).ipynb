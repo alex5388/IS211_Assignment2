{
 "cells": [
  {
   "cell_type": "code",
   "execution_count": 417,
   "metadata": {},
   "outputs": [],
   "source": [
    "import urllib.request\n",
    "import datetime\n",
    "\n",
    "def downloadData(url):\n",
    "    url = urllib.request.Request('https://s3.amazonaws.com/cuny-is211-spring2015/birthdays100.csv')\n",
    "    with urllib.request.urlopen(url) as response:\n",
    "       data = response.read().decode('ascii')"
   ]
  },
  {
   "cell_type": "code",
   "execution_count": 607,
   "metadata": {},
   "outputs": [],
   "source": [
    "def processData(data):\n",
    "    decodedData = data.decode('ascii') #downloaded data is decoded into a more useable format\n",
    "    keys = range(0, len(decodedData))  #generates keys for length of the dict.\n",
    "    dData = decodedData.split(',')      #splits up data by commas\n",
    "    del dData[0:1]\n",
    "    fList = dData\n",
    "    nList=[]                            #makes a list of names\n",
    "    for i in range(0, len(fList), 2):\n",
    "        nList.append(fList[i])\n",
    "    bList=[]                            #makes a list of birthdays\n",
    "    for i in range(1, len(fList), 2):\n",
    "        bList.append(fList[i])\n",
    "    bList2 = []\n",
    "    for i in bList:\n",
    "        bList2.append(i[:10])\n",
    "    my_dict = {}                        #makes key:val of names,birthdays\n",
    "    for key in nList: \n",
    "        for value in bList2: \n",
    "            my_dict[key] = value \n",
    "            bList2.remove(value) \n",
    "            break\n",
    "    nameDay = list(my_dict.items())     #creates tuple vals\n",
    "    newKey = []\n",
    "    for i in range(0, len(nameDay)):\n",
    "        newKey = (i)\n",
    "    finalDict = {}\n",
    "    for key in range(0, len(nameDay)):\n",
    "        for value in nameDay:\n",
    "            finalDict[key] = value\n",
    "            nameDay.remove(value)\n",
    "            break\n",
    "    return finalDict"
   ]
  },
  {
   "cell_type": "code",
   "execution_count": 608,
   "metadata": {},
   "outputs": [],
   "source": [
    "def displayPerson(id, personData):\n",
    "    personData = finalDict\n",
    "    print(personData.get(id))"
   ]
  },
  {
   "cell_type": "code",
   "execution_count": 611,
   "metadata": {},
   "outputs": [
    {
     "name": "stdout",
     "output_type": "stream",
     "text": [
      "('Charles Paige', '06/01/1963')\n"
     ]
    }
   ],
   "source": [
    "displayPerson(1, personData)"
   ]
  },
  {
   "cell_type": "code",
   "execution_count": 613,
   "metadata": {},
   "outputs": [
    {
     "data": {
      "text/plain": [
       "datetime.datetime(1963, 1, 6, 0, 0)"
      ]
     },
     "execution_count": 613,
     "metadata": {},
     "output_type": "execute_result"
    }
   ],
   "source": [
    "datetime.datetime.strptime('06/01/1963', \"%d/%m/%Y\")"
   ]
  },
  {
   "cell_type": "code",
   "execution_count": null,
   "metadata": {},
   "outputs": [],
   "source": []
  }
 ],
 "metadata": {
  "kernelspec": {
   "display_name": "Python 3",
   "language": "python",
   "name": "python3"
  },
  "language_info": {
   "codemirror_mode": {
    "name": "ipython",
    "version": 3
   },
   "file_extension": ".py",
   "mimetype": "text/x-python",
   "name": "python",
   "nbconvert_exporter": "python",
   "pygments_lexer": "ipython3",
   "version": "3.8.3"
  }
 },
 "nbformat": 4,
 "nbformat_minor": 4
}
