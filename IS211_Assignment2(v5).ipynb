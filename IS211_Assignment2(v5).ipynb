{
 "cells": [
  {
   "cell_type": "code",
   "execution_count": 8,
   "metadata": {},
   "outputs": [],
   "source": [
    "import urllib.request\n",
    "\n",
    "url = urllib.request.Request('https://s3.amazonaws.com/cuny-is211-spring2015/birthdays100.csv')\n",
    "with urllib.request.urlopen(url) as response:\n",
    "   data = response.read()"
   ]
  },
  {
   "cell_type": "code",
   "execution_count": 54,
   "metadata": {},
   "outputs": [],
   "source": [
    "decodedData = data.decode('ascii') #downloaded data is decoded into a more useable format\n",
    "keys = range(0, len(decodedData))  #generates keys for length of the dict.\n",
    "dData = decodedData.split(',')      #splits up data by commas\n",
    "for i in range(len(dData)):         #doesn't work yet\n",
    "    my_dict[keys[i]]= dData[i]"
   ]
  },
  {
   "cell_type": "code",
   "execution_count": 55,
   "metadata": {},
   "outputs": [],
   "source": [
    "del dData[0:3]"
   ]
  },
  {
   "cell_type": "code",
   "execution_count": 56,
   "metadata": {},
   "outputs": [],
   "source": [
    "fList = dData"
   ]
  },
  {
   "cell_type": "code",
   "execution_count": 57,
   "metadata": {},
   "outputs": [],
   "source": [
    "nList=[]\n",
    "for i in range(0, len(fList), 2):\n",
    "    nList.append(fList[i])"
   ]
  },
  {
   "cell_type": "code",
   "execution_count": 58,
   "metadata": {},
   "outputs": [],
   "source": [
    "bList=[]\n",
    "for i in range(1, len(fList), 2):\n",
    "    bList.append(fList[i])"
   ]
  },
  {
   "cell_type": "code",
   "execution_count": 59,
   "metadata": {},
   "outputs": [
    {
     "name": "stdout",
     "output_type": "stream",
     "text": [
      "('Andrew Bell', '29/03/1972\\n3')\n"
     ]
    }
   ],
   "source": [
    "d = nList[1], bList[1]\n",
    "print(d)"
   ]
  },
  {
   "cell_type": "code",
   "execution_count": 60,
   "metadata": {},
   "outputs": [],
   "source": [
    "my_dict = {} \n",
    "for key in nList: \n",
    "    for value in bList: \n",
    "        my_dict[key] = value \n",
    "        bList.remove(value) \n",
    "        break  \n"
   ]
  },
  {
   "cell_type": "code",
   "execution_count": 61,
   "metadata": {},
   "outputs": [],
   "source": [
    "nameDay = list(my_dict.items())"
   ]
  },
  {
   "cell_type": "code",
   "execution_count": null,
   "metadata": {},
   "outputs": [],
   "source": []
  }
 ],
 "metadata": {
  "kernelspec": {
   "display_name": "Python 3",
   "language": "python",
   "name": "python3"
  },
  "language_info": {
   "codemirror_mode": {
    "name": "ipython",
    "version": 3
   },
   "file_extension": ".py",
   "mimetype": "text/x-python",
   "name": "python",
   "nbconvert_exporter": "python",
   "pygments_lexer": "ipython3",
   "version": "3.8.3"
  }
 },
 "nbformat": 4,
 "nbformat_minor": 4
}
