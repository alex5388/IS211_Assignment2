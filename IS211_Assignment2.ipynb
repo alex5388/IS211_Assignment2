{
 "cells": [
  {
   "cell_type": "code",
   "execution_count": 46,
   "metadata": {},
   "outputs": [],
   "source": [
    "import urllib.request\n",
    "\n",
    "def downloadData(url):\n",
    "    url = 'https://s3.amazonaws.com/cuny-is211-spring2015/birthdays100.csv'\n",
    "    with urllib.request.urlopen(url) as response:\n",
    "        data = response.read()\n"
   ]
  },
  {
   "cell_type": "code",
   "execution_count": 65,
   "metadata": {},
   "outputs": [],
   "source": [
    "my_dict = {}\n",
    "decodedData = data.decode('ascii')\n",
    "#keys = range(0, len(decodedData))\n",
    "list = decodedData.split(',')\n",
    "def makeDict(decodedData):\n",
    "    for i in decodedData:\n",
    "        a = list[0]\n",
    "        b = list[1]\n",
    "        c = list[2]\n",
    "        my_dict[a]=b,c\n"
   ]
  },
  {
   "cell_type": "code",
   "execution_count": 59,
   "metadata": {},
   "outputs": [
    {
     "name": "stdout",
     "output_type": "stream",
     "text": [
      "{'id': ('name', 'birthday\\n1')}\n"
     ]
    }
   ],
   "source": [
    "print(my_dict)"
   ]
  },
  {
   "cell_type": "code",
   "execution_count": null,
   "metadata": {},
   "outputs": [],
   "source": []
  }
 ],
 "metadata": {
  "language_info": {
   "codemirror_mode": {
    "name": "ipython",
    "version": 3
   },
   "file_extension": ".py",
   "mimetype": "text/x-python",
   "name": "python",
   "nbconvert_exporter": "python",
   "pygments_lexer": "ipython3",
   "version": "3.8.3"
  }
 },
 "nbformat": 4,
 "nbformat_minor": 4
}
