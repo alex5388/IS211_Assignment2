{
 "cells": [
  {
   "cell_type": "code",
   "execution_count": 93,
   "metadata": {},
   "outputs": [],
   "source": [
    "import urllib.request\n",
    "import datetime\n",
    "\n",
    "def downloadData(url):\n",
    "    url = urllib.request.Request('https://s3.amazonaws.com/cuny-is211-spring2015/birthdays100.csv')\n",
    "    with urllib.request.urlopen(url) as response:\n",
    "       data = response.read()"
   ]
  },
  {
   "cell_type": "code",
   "execution_count": 164,
   "metadata": {},
   "outputs": [],
   "source": [
    "def processData(data):\n",
    "    decodedData = data.decode('ascii') #downloaded data is decoded into a more useable format\n",
    "    keys = range(0, len(decodedData))  #generates keys for length of the dict.\n",
    "    dData = decodedData.split(',')      #splits up data by commas\n",
    "    del dData[0:3]\n",
    "    fList = dData\n",
    "    nList=[]                            #makes a list of names\n",
    "    for i in range(0, len(fList), 2):\n",
    "        nList.append(fList[i])\n",
    "    bList=[]                            #makes a list of birthdays\n",
    "    for i in range(1, len(fList), 2):\n",
    "        bList.append(fList[i])\n",
    "    my_dict = {}                        #makes key:val of names,birthdays\n",
    "    for key in nList: \n",
    "        for value in bList: \n",
    "            my_dict[key] = value \n",
    "            bList.remove(value) \n",
    "            break \n",
    "    nameDay = list(my_dict.items())     #creates tuple vals\n",
    "    newKey = []                         #creates new dict keys\n",
    "    for i in range(0, len(nameDay)):\n",
    "        newKey = (i)\n",
    "    finalDict = {}                      #creates final dictionary\n",
    "    for key in range(0, len(nameDay)): \n",
    "        for value in nameDay: \n",
    "            finalDict[key] = value \n",
    "            nameDay.remove(value) \n",
    "            break  "
   ]
  },
  {
   "cell_type": "code",
   "execution_count": 163,
   "metadata": {},
   "outputs": [],
   "source": [
    "\n"
   ]
  },
  {
   "cell_type": "code",
   "execution_count": 139,
   "metadata": {},
   "outputs": [],
   "source": []
  }
 ],
 "metadata": {
  "kernelspec": {
   "display_name": "Python 3",
   "language": "python",
   "name": "python3"
  },
  "language_info": {
   "codemirror_mode": {
    "name": "ipython",
    "version": 3
   },
   "file_extension": ".py",
   "mimetype": "text/x-python",
   "name": "python",
   "nbconvert_exporter": "python",
   "pygments_lexer": "ipython3",
   "version": "3.8.3"
  }
 },
 "nbformat": 4,
 "nbformat_minor": 4
}
