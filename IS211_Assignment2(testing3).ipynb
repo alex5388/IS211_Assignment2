{
 "cells": [
  {
   "cell_type": "code",
   "execution_count": 311,
   "metadata": {},
   "outputs": [],
   "source": [
    "import urllib.request\n",
    "\n",
    "def downloadData(url):\n",
    "    url = 'https://s3.amazonaws.com/cuny-is211-spring2015/birthdays100.csv'\n",
    "    with urllib.request.urlopen(url) as response:\n",
    "        data = response.read()"
   ]
  },
  {
   "cell_type": "code",
   "execution_count": 312,
   "metadata": {},
   "outputs": [],
   "source": [
    "my_dict = {}\n",
    "decodedData = data.decode('ascii') #downloaded data is decoded into a more useable format\n",
    "keys = range(0, len(decodedData))  #generates keys for length of the dict.\n",
    "dData = decodedData.split(',')      #splits up data by commas\n",
    "for i in range(len(dData)):         #doesn't work yet\n",
    "    my_dict[keys[i]]= keys[i]"
   ]
  },
  {
   "cell_type": "code",
   "execution_count": 313,
   "metadata": {},
   "outputs": [],
   "source": [
    "del dData[0:3]"
   ]
  },
  {
   "cell_type": "code",
   "execution_count": 314,
   "metadata": {},
   "outputs": [],
   "source": [
    "fList = dData"
   ]
  },
  {
   "cell_type": "code",
   "execution_count": 315,
   "metadata": {},
   "outputs": [
    {
     "name": "stdout",
     "output_type": "stream",
     "text": [
      "['Charles Paige', '06/01/1963\\n2', 'Andrew Bell', '29/03/1972\\n3', 'Charles Reid', '14/06/2009\\n4', 'Sebastian Hudson', '15/08/1991\\n5', 'Gavin Ball', '20/03/1983\\n6', 'Rachel James', '27/09/1977\\n7', 'Rachel Paige', '13/09/1995\\n8', 'Una Parsons', '22/01/2014\\n9', 'Hannah Taylor', '22/05/1978\\n10', 'Una James', '05/09/1981\\n11', 'Angela Watson', '15/04/1994\\n12', 'Rebecca Hudson', '06/09/1975\\n13', 'Isaac Allan', '29/072006\\n14', 'Adam Hudson', '07/05/1975\\n15', 'Jack Walsh', '29/10/2012\\n16', 'Felicity Churchill', '09/11/1983\\n17', 'Melanie Mills', '12/02/2007\\n18', 'Neil Turner', '18/05/2008\\n19', 'Deirdre Mathis', '02/01/2010\\n20', 'Jack Poole', '03/08/1997\\n21', 'Dorothy Lee', '16/03/1999\\n22', 'Adrian Lawrence', '24/12/1987\\n23', 'Lily Ross', '02/09/1967\\n24', 'Stewart Bond', '15/02/2008\\n25', 'Colin Turner', '06/06/1994\\n26', 'Pippa Glover', '15/08/2001\\n27', 'Ruth Ogden', '23/23/2007\\n28', 'Jason Alsop', '23/04/2002\\n29', 'Kevin James', '15/12/1988\\n30', 'Ava Jackson', '1411/1997\\n31', 'Brandon Blake', '21/12/1995\\n32', 'Christopher Ross', '04/09/2015\\n33', 'Abigail Abraham', '09/12/1993\\n34', 'Rachel Cameron', '22/02/1999\\n35', 'Anna Hardacre', '16/01/2005\\n36', 'Ruth Carr', '15/02/1995\\n37', 'Jessica Miller', '20/11/1999\\n38', 'Peter McDonald', '18/01/1987\\n39', 'Nicola Jones', '18/05/1970\\n40', 'Paul McGrath', '27/06/1969\\n41', 'Diana Nolan', '09/04/1973\\n42', 'Claire Langdon', '15/08/2010\\n43', 'Blake Blake', '16/02/1991\\n44', 'Wendy Rampling', '04/05/1986\\n45', 'Audrey Butler', '20/09/1979\\n46', 'Sebastian Jones', '24/11/1975\\n47', 'Jane Nash', '11/11/19895\\n48', 'Joshua Glover', '44/01/1972\\n49', 'Stewart Ogden', '27/03/1970\\n50', 'Trevor Clarkson', '01/08/1979\\n51', 'Stewart Hughes', '01/12/2005\\n52', 'Paul Powell', '28/10/2011\\n53', 'Chloe Walsh', '20/07/1965\\n54', 'John Clark', '01/03/1973\\n55', 'Dorothy Cornish', '06/09/1983\\n56', 'Jessica Robertson', '05/07/2004\\n57', 'Elizabeth Langdon', '13/05/1997\\n58', 'Luke MacLeod', '22/09/1983\\n59', 'Dominic Clark', '26/04/1998\\n60', 'Madeleine Roberts', '03/05/2002\\n61', 'Jane Hemmings', '17/04/1986\\n62', 'Edward Bell', '31/05/1968\\n63', 'Lucas Scott', '18/11/2015\\n64', 'Yvonne Kelly', '30/01/1992\\n65', 'Harry McLean', '12/11/1984\\n66', 'Colin Payne', '17/02/1975\\n67', 'Amy Gill', '29*06*1988\\n68', 'Donna Sharp', '15/10/2007\\n69', 'Alexandra Ince', '26/11/1981\\n70', 'Zoe Bailey', '25/09/2007\\n71', 'Penelope Underwood', '00/10/1995\\n72', 'Grace Murray', '02/08/2004\\n73', 'Jennifer Arnold', '31/12/1962\\n74', 'Justin Forsyth', '25/12/1972\\n75', 'Richard Bell', '25/09/1989\\n76', 'Amanda McGrath', '25/04/2009\\n77', 'Caroline Manning', '08/01/1983\\n78', 'Stephanie Coleman', '25/19/1998\\n79', 'Donna Burgess', '04/08/1964\\n80', 'Jason Ferguson', '30/11/1997\\n81', 'Lillian Young', '17/09/2000\\n82', 'Phil Ogden', '07/07/1996\\n83', 'Bella Rutherford', '02/07/1976\\n84', 'Julian Abraham', '09/02/1998\\n85', 'Michael Young', '01/03/1980\\n86', 'Dominic Coleman', '08/01/2010\\n87', 'Rachel Powell', '09-08-2003\\n88', 'Adam Ellison', '25/08/1979\\n89', 'Austin Dowd', '25/08/2001\\n90', 'Sonia Pullman', '14/09/1999\\n91', 'Isaac Dowd', '25/07/1997\\n92', 'Amy Slater', '07/03/1996\\n93', 'David Howard', '22//01//2013\\n94', 'Carol Thomson', '30/01/1987\\n95', 'Carol Gibson', '28/06/1985\\n96', 'Carl Alsop', '29/12/1994\\n97', 'Alexandra Lambert', '20/07/1961\\n98', 'Alexander Dyer', '14/05/1982\\n99', 'Alan Wilson', '03/04/1960\\n100', 'Austin Burgess', '04/06/1979\\n']\n"
     ]
    }
   ],
   "source": [
    "print(fList)"
   ]
  },
  {
   "cell_type": "code",
   "execution_count": 316,
   "metadata": {},
   "outputs": [
    {
     "name": "stdout",
     "output_type": "stream",
     "text": [
      "Charles Paige\n",
      "Andrew Bell\n",
      "Charles Reid\n",
      "Sebastian Hudson\n",
      "Gavin Ball\n",
      "Rachel James\n",
      "Rachel Paige\n",
      "Una Parsons\n",
      "Hannah Taylor\n",
      "Una James\n",
      "Angela Watson\n",
      "Rebecca Hudson\n",
      "Isaac Allan\n",
      "Adam Hudson\n",
      "Jack Walsh\n",
      "Felicity Churchill\n",
      "Melanie Mills\n",
      "Neil Turner\n",
      "Deirdre Mathis\n",
      "Jack Poole\n",
      "Dorothy Lee\n",
      "Adrian Lawrence\n",
      "Lily Ross\n",
      "Stewart Bond\n",
      "Colin Turner\n",
      "Pippa Glover\n",
      "Ruth Ogden\n",
      "Jason Alsop\n",
      "Kevin James\n",
      "Ava Jackson\n",
      "Brandon Blake\n",
      "Christopher Ross\n",
      "Abigail Abraham\n",
      "Rachel Cameron\n",
      "Anna Hardacre\n",
      "Ruth Carr\n",
      "Jessica Miller\n",
      "Peter McDonald\n",
      "Nicola Jones\n",
      "Paul McGrath\n",
      "Diana Nolan\n",
      "Claire Langdon\n",
      "Blake Blake\n",
      "Wendy Rampling\n",
      "Audrey Butler\n",
      "Sebastian Jones\n",
      "Jane Nash\n",
      "Joshua Glover\n",
      "Stewart Ogden\n",
      "Trevor Clarkson\n",
      "Stewart Hughes\n",
      "Paul Powell\n",
      "Chloe Walsh\n",
      "John Clark\n",
      "Dorothy Cornish\n",
      "Jessica Robertson\n",
      "Elizabeth Langdon\n",
      "Luke MacLeod\n",
      "Dominic Clark\n",
      "Madeleine Roberts\n",
      "Jane Hemmings\n",
      "Edward Bell\n",
      "Lucas Scott\n",
      "Yvonne Kelly\n",
      "Harry McLean\n",
      "Colin Payne\n",
      "Amy Gill\n",
      "Donna Sharp\n",
      "Alexandra Ince\n",
      "Zoe Bailey\n",
      "Penelope Underwood\n",
      "Grace Murray\n",
      "Jennifer Arnold\n",
      "Justin Forsyth\n",
      "Richard Bell\n",
      "Amanda McGrath\n",
      "Caroline Manning\n",
      "Stephanie Coleman\n",
      "Donna Burgess\n",
      "Jason Ferguson\n",
      "Lillian Young\n",
      "Phil Ogden\n",
      "Bella Rutherford\n",
      "Julian Abraham\n",
      "Michael Young\n",
      "Dominic Coleman\n",
      "Rachel Powell\n",
      "Adam Ellison\n",
      "Austin Dowd\n",
      "Sonia Pullman\n",
      "Isaac Dowd\n",
      "Amy Slater\n",
      "David Howard\n",
      "Carol Thomson\n",
      "Carol Gibson\n",
      "Carl Alsop\n",
      "Alexandra Lambert\n",
      "Alexander Dyer\n",
      "Alan Wilson\n",
      "Austin Burgess\n"
     ]
    }
   ],
   "source": [
    "nList=[]\n",
    "for i in range(0, len(fList), 2):\n",
    "    print(fList[i])\n",
    "    nList.append(fList[i])"
   ]
  },
  {
   "cell_type": "code",
   "execution_count": 317,
   "metadata": {},
   "outputs": [],
   "source": [
    "bList=[]\n",
    "for i in range(1, len(fList), 2):\n",
    "    bList.append(fList[i])"
   ]
  },
  {
   "cell_type": "code",
   "execution_count": 325,
   "metadata": {},
   "outputs": [],
   "source": [
    "d = {}\n",
    "d = nList[1], bList[1]"
   ]
  },
  {
   "cell_type": "code",
   "execution_count": 326,
   "metadata": {},
   "outputs": [
    {
     "name": "stdout",
     "output_type": "stream",
     "text": [
      "('Andrew Bell', '29/03/1972\\n3')\n"
     ]
    }
   ],
   "source": [
    "print(d)"
   ]
  },
  {
   "cell_type": "code",
   "execution_count": null,
   "metadata": {},
   "outputs": [],
   "source": []
  }
 ],
 "metadata": {
  "kernelspec": {
   "display_name": "Python 3",
   "language": "python",
   "name": "python3"
  },
  "language_info": {
   "codemirror_mode": {
    "name": "ipython",
    "version": 3
   },
   "file_extension": ".py",
   "mimetype": "text/x-python",
   "name": "python",
   "nbconvert_exporter": "python",
   "pygments_lexer": "ipython3",
   "version": "3.8.3"
  }
 },
 "nbformat": 4,
 "nbformat_minor": 4
}
